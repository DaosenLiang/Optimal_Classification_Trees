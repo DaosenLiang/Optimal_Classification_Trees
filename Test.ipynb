{
 "cells": [
  {
   "cell_type": "markdown",
   "id": "aggregate-logan",
   "metadata": {},
   "source": [
    "## Import Packages "
   ]
  },
  {
   "cell_type": "code",
   "execution_count": 1,
   "id": "streaming-console",
   "metadata": {},
   "outputs": [],
   "source": [
    "import dataset\n",
    "import tree as miptree\n",
    "from sklearn import tree"
   ]
  },
  {
   "cell_type": "markdown",
   "id": "appreciated-thompson",
   "metadata": {},
   "source": [
    "## Load Data "
   ]
  },
  {
   "cell_type": "code",
   "execution_count": 2,
   "id": "recent-employee",
   "metadata": {},
   "outputs": [],
   "source": [
    "x_train, y_train, x_test, y_test = dataset.loadData('monks-1')"
   ]
  },
  {
   "cell_type": "markdown",
   "id": "raised-bullet",
   "metadata": {},
   "source": [
    "## Optimal Classification Tree"
   ]
  },
  {
   "cell_type": "code",
   "execution_count": 3,
   "id": "ready-lawrence",
   "metadata": {},
   "outputs": [
    {
     "name": "stdout",
     "output_type": "stream",
     "text": [
      "Training data include 124 instances, 6 features.\n",
      "\n",
      "--------------------------------------------\n",
      "Warning: your license will expire in 11 days\n",
      "--------------------------------------------\n",
      "\n",
      "Academic license - for non-commercial use only - expires 2021-04-13\n",
      "Using license file C:\\Users\\Apocrypse\\gurobi.lic\n",
      "Gurobi Optimizer version 9.1.1 build v9.1.1rc0 (win64)\n",
      "Thread count: 4 physical cores, 8 logical processors, using up to 8 threads\n",
      "Optimize a model with 1656 rows, 548 columns and 11531 nonzeros\n",
      "Model fingerprint: 0xeb92cfa1\n",
      "Variable types: 19 continuous, 529 integer (529 binary)\n",
      "Coefficient statistics:\n",
      "  Matrix range     [3e-01, 1e+02]\n",
      "  Objective range  [2e-02, 2e-02]\n",
      "  Bounds range     [1e+00, 1e+00]\n",
      "  RHS range        [1e+00, 1e+02]\n",
      "Found heuristic solution: objective 1.0000000\n",
      "Presolve removed 142 rows and 12 columns\n",
      "Presolve time: 0.03s\n",
      "Presolved: 1514 rows, 536 columns, 9383 nonzeros\n",
      "Variable types: 0 continuous, 536 integer (521 binary)\n",
      "\n",
      "Root relaxation: objective 0.000000e+00, 411 iterations, 0.01 seconds\n",
      "\n",
      "    Nodes    |    Current Node    |     Objective Bounds      |     Work\n",
      " Expl Unexpl |  Obj  Depth IntInf | Incumbent    BestBd   Gap | It/Node Time\n",
      "\n",
      "     0     0    0.00000    0  147    1.00000    0.00000   100%     -    0s\n",
      "H    0     0                       0.9193548    0.00000   100%     -    0s\n",
      "     0     0    0.00000    0  250    0.91935    0.00000   100%     -    0s\n",
      "     0     0    0.00000    0  230    0.91935    0.00000   100%     -    0s\n",
      "H    0     0                       0.7258065    0.00000   100%     -    0s\n",
      "H    0     0                       0.5000000    0.00000   100%     -    0s\n",
      "     0     0    0.00000    0  110    0.50000    0.00000   100%     -    0s\n",
      "     0     0    0.00000    0  199    0.50000    0.00000   100%     -    0s\n",
      "     0     0    0.00000    0  176    0.50000    0.00000   100%     -    1s\n",
      "     0     0    0.00000    0  176    0.50000    0.00000   100%     -    1s\n",
      "     0     2    0.00000    0  147    0.50000    0.00000   100%     -    1s\n",
      "H   72    74                       0.4032258    0.00000   100%  48.1    1s\n",
      "H  211   137                       0.3548387    0.00000   100%  39.7    1s\n",
      "  1329   334    0.00565   34  118    0.35484    0.00000   100%  63.5    5s\n",
      "  3360   582    0.21441   40  219    0.35484    0.06720  81.1%  64.9   10s\n",
      "  6762   525 infeasible   18         0.35484    0.17742  50.0%  55.6   15s\n",
      "  8642   409 infeasible   41         0.35484    0.19355  45.5%  53.9   20s\n",
      " 10353    64 infeasible   42         0.35484    0.19355  45.5%  54.9   25s\n",
      "\n",
      "Cutting planes:\n",
      "  Learned: 573\n",
      "  Gomory: 6\n",
      "  Cover: 3182\n",
      "  Implied bound: 82\n",
      "  Clique: 287\n",
      "  MIR: 192\n",
      "  StrongCG: 25\n",
      "  Flow cover: 25\n",
      "  GUB cover: 227\n",
      "  Inf proof: 48\n",
      "  Zero half: 2\n",
      "  Mod-K: 10\n",
      "  RLT: 15\n",
      "  Relax-and-lift: 34\n",
      "\n",
      "Explored 11222 nodes (599698 simplex iterations) in 26.42 seconds\n",
      "Thread count was 8 (of 8 available processors)\n",
      "\n",
      "Solution count 6: 0.354839 0.403226 0.5 ... 1\n",
      "\n",
      "Optimal solution found (tolerance 1.00e-04)\n",
      "Best objective 3.548387096774e-01, best bound 3.548387096774e-01, gap 0.0000%\n"
     ]
    }
   ],
   "source": [
    "octree = miptree.optimalDecisionTreeClassifier(max_depth=2, alpha=0)\n",
    "octree.fit(x_train, y_train)"
   ]
  },
  {
   "cell_type": "code",
   "execution_count": 4,
   "id": "light-cigarette",
   "metadata": {},
   "outputs": [],
   "source": [
    "from sklearn.metrics import accuracy_score"
   ]
  },
  {
   "cell_type": "code",
   "execution_count": 5,
   "id": "prepared-forest",
   "metadata": {},
   "outputs": [
    {
     "data": {
      "text/plain": [
       "0.8225806451612904"
      ]
     },
     "execution_count": 5,
     "metadata": {},
     "output_type": "execute_result"
    }
   ],
   "source": [
    "y_train_pred = octree.predict(x_train)\n",
    "accuracy_score(y_train, y_train_pred)"
   ]
  },
  {
   "cell_type": "code",
   "execution_count": 6,
   "id": "strategic-midnight",
   "metadata": {},
   "outputs": [
    {
     "data": {
      "text/plain": [
       "0.7222222222222222"
      ]
     },
     "execution_count": 6,
     "metadata": {},
     "output_type": "execute_result"
    }
   ],
   "source": [
    "y_test_pred = octree.predict(x_test)\n",
    "accuracy_score(y_test, y_test_pred)"
   ]
  },
  {
   "cell_type": "markdown",
   "id": "boxed-museum",
   "metadata": {},
   "source": [
    "## Decision Tree "
   ]
  },
  {
   "cell_type": "code",
   "execution_count": 7,
   "id": "parallel-terror",
   "metadata": {},
   "outputs": [
    {
     "data": {
      "text/plain": [
       "DecisionTreeClassifier(max_depth=2)"
      ]
     },
     "execution_count": 7,
     "metadata": {},
     "output_type": "execute_result"
    }
   ],
   "source": [
    "clf = tree.DecisionTreeClassifier(max_depth=2, min_samples_split=2)\n",
    "clf.fit(x_train, y_train)"
   ]
  },
  {
   "cell_type": "code",
   "execution_count": 8,
   "id": "adjusted-ukraine",
   "metadata": {},
   "outputs": [
    {
     "data": {
      "text/plain": [
       "0.7338709677419355"
      ]
     },
     "execution_count": 8,
     "metadata": {},
     "output_type": "execute_result"
    }
   ],
   "source": [
    "y_train_pred = clf.predict(x_train)\n",
    "accuracy_score(y_train, y_train_pred)"
   ]
  },
  {
   "cell_type": "code",
   "execution_count": 9,
   "id": "residential-serbia",
   "metadata": {},
   "outputs": [
    {
     "data": {
      "text/plain": [
       "0.75"
      ]
     },
     "execution_count": 9,
     "metadata": {},
     "output_type": "execute_result"
    }
   ],
   "source": [
    "y_test_pred = clf.predict(x_test)\n",
    "accuracy_score(y_test, y_test_pred)"
   ]
  },
  {
   "cell_type": "code",
   "execution_count": null,
   "id": "temporal-capacity",
   "metadata": {},
   "outputs": [],
   "source": []
  }
 ],
 "metadata": {
  "kernelspec": {
   "display_name": "Python 3",
   "language": "python",
   "name": "python3"
  },
  "language_info": {
   "codemirror_mode": {
    "name": "ipython",
    "version": 3
   },
   "file_extension": ".py",
   "mimetype": "text/x-python",
   "name": "python",
   "nbconvert_exporter": "python",
   "pygments_lexer": "ipython3",
   "version": "3.7.10"
  }
 },
 "nbformat": 4,
 "nbformat_minor": 5
}
