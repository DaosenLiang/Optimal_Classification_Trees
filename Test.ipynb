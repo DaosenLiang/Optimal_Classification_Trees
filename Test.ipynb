{
 "cells": [
  {
   "cell_type": "markdown",
   "id": "aggregate-logan",
   "metadata": {},
   "source": [
    "## Import Packages "
   ]
  },
  {
   "cell_type": "code",
   "execution_count": 1,
   "id": "streaming-console",
   "metadata": {},
   "outputs": [],
   "source": [
    "import dataset\n",
    "import tree as miptree\n",
    "from sklearn import tree\n",
    "from sklearn.metrics import accuracy_score"
   ]
  },
  {
   "cell_type": "markdown",
   "id": "appreciated-thompson",
   "metadata": {},
   "source": [
    "## Load Data "
   ]
  },
  {
   "cell_type": "code",
   "execution_count": 2,
   "id": "recent-employee",
   "metadata": {},
   "outputs": [],
   "source": [
    "x_train, y_train, x_test, y_test = dataset.loadData('monks-1')"
   ]
  },
  {
   "cell_type": "markdown",
   "id": "raised-bullet",
   "metadata": {},
   "source": [
    "## Optimal Classification Tree"
   ]
  },
  {
   "cell_type": "code",
   "execution_count": 3,
   "id": "ready-lawrence",
   "metadata": {},
   "outputs": [
    {
     "name": "stdout",
     "output_type": "stream",
     "text": [
      "Training data include 124 instances, 6 features.\n",
      "Academic license - for non-commercial use only - expires 2021-04-13\n",
      "Using license file C:\\Users\\Apocrypse\\gurobi.lic\n",
      "Changed value of parameter timeLimit to 600.0\n",
      "   Prev: inf  Min: 0.0  Max: inf  Default: inf\n",
      "Parameter outputFlag unchanged\n",
      "   Value: 1  Min: 0  Max: 1  Default: 1\n",
      "Gurobi Optimizer version 9.1.1 build v9.1.1rc0 (win64)\n",
      "Thread count: 4 physical cores, 8 logical processors, using up to 8 threads\n",
      "Optimize a model with 1656 rows, 548 columns and 11531 nonzeros\n",
      "Model fingerprint: 0xeb92cfa1\n",
      "Variable types: 19 continuous, 529 integer (529 binary)\n",
      "Coefficient statistics:\n",
      "  Matrix range     [3e-01, 1e+02]\n",
      "  Objective range  [2e-02, 2e-02]\n",
      "  Bounds range     [1e+00, 1e+00]\n",
      "  RHS range        [1e+00, 1e+02]\n",
      "Found heuristic solution: objective 1.0000000\n",
      "Presolve removed 142 rows and 12 columns\n",
      "Presolve time: 0.04s\n",
      "Presolved: 1514 rows, 536 columns, 9383 nonzeros\n",
      "Variable types: 0 continuous, 536 integer (521 binary)\n",
      "\n",
      "Root relaxation: objective 0.000000e+00, 411 iterations, 0.02 seconds\n",
      "\n",
      "    Nodes    |    Current Node    |     Objective Bounds      |     Work\n",
      " Expl Unexpl |  Obj  Depth IntInf | Incumbent    BestBd   Gap | It/Node Time\n",
      "\n",
      "     0     0    0.00000    0  147    1.00000    0.00000   100%     -    0s\n",
      "H    0     0                       0.9193548    0.00000   100%     -    0s\n",
      "     0     0    0.00000    0  250    0.91935    0.00000   100%     -    0s\n",
      "     0     0    0.00000    0  230    0.91935    0.00000   100%     -    0s\n",
      "H    0     0                       0.7258065    0.00000   100%     -    0s\n",
      "H    0     0                       0.5000000    0.00000   100%     -    0s\n",
      "     0     0    0.00000    0  110    0.50000    0.00000   100%     -    0s\n",
      "     0     0    0.00000    0  199    0.50000    0.00000   100%     -    0s\n",
      "     0     0    0.00000    0  176    0.50000    0.00000   100%     -    1s\n",
      "     0     0    0.00000    0  176    0.50000    0.00000   100%     -    1s\n",
      "     0     2    0.00000    0  147    0.50000    0.00000   100%     -    1s\n",
      "H   72    74                       0.4032258    0.00000   100%  48.1    1s\n",
      "H  211   137                       0.3548387    0.00000   100%  39.7    1s\n",
      "  1432   328     cutoff   37         0.35484    0.00000   100%  65.8    5s\n",
      "  5120   461    0.24459   10  209    0.35484    0.16009  54.9%  59.8   10s\n",
      "  8278   447 infeasible   36         0.35484    0.19355  45.5%  53.1   15s\n",
      " 10353    64 infeasible   42         0.35484    0.19355  45.5%  54.9   20s\n",
      "\n",
      "Cutting planes:\n",
      "  Learned: 573\n",
      "  Gomory: 6\n",
      "  Cover: 3182\n",
      "  Implied bound: 82\n",
      "  Clique: 287\n",
      "  MIR: 192\n",
      "  StrongCG: 25\n",
      "  Flow cover: 25\n",
      "  GUB cover: 227\n",
      "  Inf proof: 48\n",
      "  Zero half: 2\n",
      "  Mod-K: 10\n",
      "  RLT: 15\n",
      "  Relax-and-lift: 34\n",
      "\n",
      "Explored 11222 nodes (599698 simplex iterations) in 20.65 seconds\n",
      "Thread count was 8 (of 8 available processors)\n",
      "\n",
      "Solution count 6: 0.354839 0.403226 0.5 ... 1\n",
      "\n",
      "Optimal solution found (tolerance 1.00e-04)\n",
      "Best objective 3.548387096774e-01, best bound 3.548387096774e-01, gap 0.0000%\n"
     ]
    }
   ],
   "source": [
    "octree = miptree.optimalDecisionTreeClassifier(max_depth=2, alpha=0)\n",
    "octree.fit(x_train, y_train)"
   ]
  },
  {
   "cell_type": "code",
   "execution_count": 4,
   "id": "prepared-forest",
   "metadata": {},
   "outputs": [
    {
     "data": {
      "text/plain": [
       "0.8225806451612904"
      ]
     },
     "execution_count": 4,
     "metadata": {},
     "output_type": "execute_result"
    }
   ],
   "source": [
    "y_train_pred = octree.predict(x_train)\n",
    "accuracy_score(y_train, y_train_pred)"
   ]
  },
  {
   "cell_type": "code",
   "execution_count": 5,
   "id": "strategic-midnight",
   "metadata": {},
   "outputs": [
    {
     "data": {
      "text/plain": [
       "0.7222222222222222"
      ]
     },
     "execution_count": 5,
     "metadata": {},
     "output_type": "execute_result"
    }
   ],
   "source": [
    "y_test_pred = octree.predict(x_test)\n",
    "accuracy_score(y_test, y_test_pred)"
   ]
  },
  {
   "cell_type": "markdown",
   "id": "involved-powell",
   "metadata": {},
   "source": [
    "## Binary Linear Optimal Classification Tree"
   ]
  },
  {
   "cell_type": "code",
   "execution_count": 24,
   "id": "overall-skating",
   "metadata": {
    "scrolled": false
   },
   "outputs": [
    {
     "name": "stdout",
     "output_type": "stream",
     "text": [
      "Training data include 124 instances, 6 features.\n",
      "Changed value of parameter timeLimit to 600.0\n",
      "   Prev: inf  Min: 0.0  Max: inf  Default: inf\n",
      "Parameter outputFlag unchanged\n",
      "   Value: 1  Min: 0  Max: 1  Default: 1\n",
      "Gurobi Optimizer version 9.1.1 build v9.1.1rc0 (win64)\n",
      "Thread count: 4 physical cores, 8 logical processors, using up to 8 threads\n",
      "Optimize a model with 687 rows, 540 columns and 6443 nonzeros\n",
      "Model fingerprint: 0xbd7875f9\n",
      "Variable types: 504 continuous, 36 integer (36 binary)\n",
      "Coefficient statistics:\n",
      "  Matrix range     [1e+00, 1e+02]\n",
      "  Objective range  [1e+00, 1e+00]\n",
      "  Bounds range     [1e+00, 1e+00]\n",
      "  RHS range        [1e+00, 1e+02]\n",
      "Found heuristic solution: objective 61.0000000\n",
      "Presolve removed 4 rows and 4 columns\n",
      "Presolve time: 0.01s\n",
      "Presolved: 683 rows, 536 columns, 6576 nonzeros\n",
      "Variable types: 504 continuous, 32 integer (32 binary)\n",
      "\n",
      "Root relaxation: objective 0.000000e+00, 206 iterations, 0.00 seconds\n",
      "\n",
      "    Nodes    |    Current Node    |     Objective Bounds      |     Work\n",
      " Expl Unexpl |  Obj  Depth IntInf | Incumbent    BestBd   Gap | It/Node Time\n",
      "\n",
      "     0     0    0.00000    0    4   61.00000    0.00000   100%     -    0s\n",
      "H    0     0                      57.0000000    0.00000   100%     -    0s\n",
      "H    0     0                      47.0000000    0.00000   100%     -    0s\n",
      "     0     0    0.00000    0   12   47.00000    0.00000   100%     -    0s\n",
      "     0     0    0.00000    0   12   47.00000    0.00000   100%     -    0s\n",
      "H    0     0                      39.0000000    0.00000   100%     -    0s\n",
      "H    0     0                      33.0000000    0.00000   100%     -    0s\n",
      "     0     0    0.00000    0    6   33.00000    0.00000   100%     -    0s\n",
      "     0     0    0.00000    0    6   33.00000    0.00000   100%     -    0s\n",
      "H    0     2                      31.0000000    0.00000   100%     -    0s\n",
      "     0     2    0.00000    0    6   31.00000    0.00000   100%     -    0s\n",
      "H  117    95                      22.0000000    0.00000   100%  15.8    0s\n",
      "\n",
      "Cutting planes:\n",
      "  Implied bound: 294\n",
      "  MIR: 15\n",
      "  Flow cover: 23\n",
      "  Inf proof: 21\n",
      "  RLT: 12\n",
      "  Relax-and-lift: 36\n",
      "\n",
      "Explored 1357 nodes (22309 simplex iterations) in 0.66 seconds\n",
      "Thread count was 8 (of 8 available processors)\n",
      "\n",
      "Solution count 7: 22 31 33 ... 61\n",
      "\n",
      "Optimal solution found (tolerance 1.00e-04)\n",
      "Best objective 2.200000000000e+01, best bound 2.200000000000e+01, gap 0.0000%\n",
      "{(1, 0): <gurobi.Var q[1,0] (value 1.0)>, (1, 1): <gurobi.Var q[1,1] (value 0.0)>, (2, 0): <gurobi.Var q[2,0] (value 1.0)>, (2, 1): <gurobi.Var q[2,1] (value 1.0)>, (3, 0): <gurobi.Var q[3,0] (value 1.0)>, (3, 1): <gurobi.Var q[3,1] (value -0.0)>}\n",
      "1 [0.5, 0.8333333333333333] 2\n",
      "{(1, 0): <gurobi.Var q[1,0] (value 1.0)>, (1, 1): <gurobi.Var q[1,1] (value 0.0)>, (2, 0): <gurobi.Var q[2,0] (value 1.0)>, (2, 1): <gurobi.Var q[2,1] (value 1.0)>, (3, 0): <gurobi.Var q[3,0] (value 1.0)>, (3, 1): <gurobi.Var q[3,1] (value -0.0)>}\n",
      "0 [0.5, 0.8333333333333333] 3\n"
     ]
    },
    {
     "ename": "IndexError",
     "evalue": "list index out of range",
     "output_type": "error",
     "traceback": [
      "\u001b[1;31m---------------------------------------------------------------------------\u001b[0m",
      "\u001b[1;31mIndexError\u001b[0m                                Traceback (most recent call last)",
      "\u001b[1;32m<ipython-input-24-a290f61059ab>\u001b[0m in \u001b[0;36m<module>\u001b[1;34m\u001b[0m\n\u001b[0;32m      1\u001b[0m \u001b[0mboct\u001b[0m \u001b[1;33m=\u001b[0m \u001b[0mmiptree\u001b[0m\u001b[1;33m.\u001b[0m\u001b[0mbinOptimalDecisionTreeClassifier\u001b[0m\u001b[1;33m(\u001b[0m\u001b[0mmax_depth\u001b[0m\u001b[1;33m=\u001b[0m\u001b[1;36m2\u001b[0m\u001b[1;33m,\u001b[0m \u001b[0mmin_samples_split\u001b[0m\u001b[1;33m=\u001b[0m\u001b[1;36m4\u001b[0m\u001b[1;33m)\u001b[0m\u001b[1;33m\u001b[0m\u001b[1;33m\u001b[0m\u001b[0m\n\u001b[1;32m----> 2\u001b[1;33m \u001b[0mboct\u001b[0m\u001b[1;33m.\u001b[0m\u001b[0mfit\u001b[0m\u001b[1;33m(\u001b[0m\u001b[0mx_train\u001b[0m\u001b[1;33m,\u001b[0m \u001b[0my_train\u001b[0m\u001b[1;33m)\u001b[0m\u001b[1;33m\u001b[0m\u001b[1;33m\u001b[0m\u001b[0m\n\u001b[0m",
      "\u001b[1;32mD:\\OneDrive\\Study\\UofT\\MIE1603 Integer Programming\\project\\MIP_Decision_Tree\\tree\\boct.py\u001b[0m in \u001b[0;36mfit\u001b[1;34m(self, x, y)\u001b[0m\n\u001b[0;32m     44\u001b[0m             \u001b[0mprint\u001b[0m\u001b[1;33m(\u001b[0m\u001b[0mq\u001b[0m\u001b[1;33m)\u001b[0m\u001b[1;33m\u001b[0m\u001b[1;33m\u001b[0m\u001b[0m\n\u001b[0;32m     45\u001b[0m             \u001b[0mprint\u001b[0m\u001b[1;33m(\u001b[0m\u001b[0mfeature\u001b[0m\u001b[1;33m,\u001b[0m \u001b[0mself\u001b[0m\u001b[1;33m.\u001b[0m\u001b[0mthresholds\u001b[0m\u001b[1;33m[\u001b[0m\u001b[0mfeature\u001b[0m\u001b[1;33m]\u001b[0m\u001b[1;33m,\u001b[0m \u001b[0mind\u001b[0m\u001b[1;33m)\u001b[0m\u001b[1;33m\u001b[0m\u001b[1;33m\u001b[0m\u001b[0m\n\u001b[1;32m---> 46\u001b[1;33m             \u001b[0mself\u001b[0m\u001b[1;33m.\u001b[0m\u001b[0msplit\u001b[0m\u001b[1;33m[\u001b[0m\u001b[0mt\u001b[0m\u001b[1;33m]\u001b[0m \u001b[1;33m=\u001b[0m \u001b[1;33m(\u001b[0m\u001b[0mfeature\u001b[0m\u001b[1;33m,\u001b[0m \u001b[0mself\u001b[0m\u001b[1;33m.\u001b[0m\u001b[0mthresholds\u001b[0m\u001b[1;33m[\u001b[0m\u001b[0mfeature\u001b[0m\u001b[1;33m]\u001b[0m\u001b[1;33m[\u001b[0m\u001b[1;33m-\u001b[0m\u001b[0mind\u001b[0m\u001b[1;33m]\u001b[0m\u001b[1;33m)\u001b[0m\u001b[1;33m\u001b[0m\u001b[1;33m\u001b[0m\u001b[0m\n\u001b[0m\u001b[0;32m     47\u001b[0m \u001b[1;33m\u001b[0m\u001b[0m\n\u001b[0;32m     48\u001b[0m         \u001b[0mself\u001b[0m\u001b[1;33m.\u001b[0m\u001b[0mtrained\u001b[0m \u001b[1;33m=\u001b[0m \u001b[1;32mTrue\u001b[0m\u001b[1;33m\u001b[0m\u001b[1;33m\u001b[0m\u001b[0m\n",
      "\u001b[1;31mIndexError\u001b[0m: list index out of range"
     ]
    }
   ],
   "source": [
    "boct = miptree.binOptimalDecisionTreeClassifier(max_depth=2, min_samples_split=4)\n",
    "boct.fit(x_train, y_train)"
   ]
  },
  {
   "cell_type": "code",
   "execution_count": 25,
   "id": "incorporate-cisco",
   "metadata": {},
   "outputs": [
    {
     "ename": "AssertionError",
     "evalue": "This binOptimalDecisionTreeClassifier instance is not fitted yet.",
     "output_type": "error",
     "traceback": [
      "\u001b[1;31m---------------------------------------------------------------------------\u001b[0m",
      "\u001b[1;31mAssertionError\u001b[0m                            Traceback (most recent call last)",
      "\u001b[1;32m<ipython-input-25-1f18497bf83a>\u001b[0m in \u001b[0;36m<module>\u001b[1;34m\u001b[0m\n\u001b[1;32m----> 1\u001b[1;33m \u001b[0my_train_pred\u001b[0m \u001b[1;33m=\u001b[0m \u001b[0mboct\u001b[0m\u001b[1;33m.\u001b[0m\u001b[0mpredict\u001b[0m\u001b[1;33m(\u001b[0m\u001b[0mx_train\u001b[0m\u001b[1;33m)\u001b[0m\u001b[1;33m\u001b[0m\u001b[1;33m\u001b[0m\u001b[0m\n\u001b[0m\u001b[0;32m      2\u001b[0m \u001b[0maccuracy_score\u001b[0m\u001b[1;33m(\u001b[0m\u001b[0my_train\u001b[0m\u001b[1;33m,\u001b[0m \u001b[0my_train_pred\u001b[0m\u001b[1;33m)\u001b[0m\u001b[1;33m\u001b[0m\u001b[1;33m\u001b[0m\u001b[0m\n",
      "\u001b[1;32mD:\\OneDrive\\Study\\UofT\\MIE1603 Integer Programming\\project\\MIP_Decision_Tree\\tree\\boct.py\u001b[0m in \u001b[0;36mpredict\u001b[1;34m(self, x)\u001b[0m\n\u001b[0;32m     52\u001b[0m         \u001b[0mmodel\u001b[0m \u001b[0mprediction\u001b[0m\u001b[1;33m\u001b[0m\u001b[1;33m\u001b[0m\u001b[0m\n\u001b[0;32m     53\u001b[0m         \"\"\"\n\u001b[1;32m---> 54\u001b[1;33m         \u001b[1;32massert\u001b[0m \u001b[0mself\u001b[0m\u001b[1;33m.\u001b[0m\u001b[0mtrained\u001b[0m\u001b[1;33m,\u001b[0m \u001b[1;34m'This binOptimalDecisionTreeClassifier instance is not fitted yet.'\u001b[0m\u001b[1;33m\u001b[0m\u001b[1;33m\u001b[0m\u001b[0m\n\u001b[0m\u001b[0;32m     55\u001b[0m \u001b[1;33m\u001b[0m\u001b[0m\n\u001b[0;32m     56\u001b[0m         \u001b[1;31m# leaf nodes\u001b[0m\u001b[1;33m\u001b[0m\u001b[1;33m\u001b[0m\u001b[1;33m\u001b[0m\u001b[0m\n",
      "\u001b[1;31mAssertionError\u001b[0m: This binOptimalDecisionTreeClassifier instance is not fitted yet."
     ]
    }
   ],
   "source": [
    "y_train_pred = boct.predict(x_train)\n",
    "accuracy_score(y_train, y_train_pred)"
   ]
  },
  {
   "cell_type": "code",
   "execution_count": 22,
   "id": "fresh-curve",
   "metadata": {},
   "outputs": [
    {
     "data": {
      "text/plain": [
       "0.6388888888888888"
      ]
     },
     "execution_count": 22,
     "metadata": {},
     "output_type": "execute_result"
    }
   ],
   "source": [
    "y_test_pred = boct.predict(x_test)\n",
    "accuracy_score(y_test, y_test_pred)"
   ]
  },
  {
   "cell_type": "markdown",
   "id": "roman-raise",
   "metadata": {},
   "source": [
    "## Max Flow Classification Tree"
   ]
  },
  {
   "cell_type": "code",
   "execution_count": 9,
   "id": "lined-links",
   "metadata": {},
   "outputs": [],
   "source": [
    "mfoct = miptree.maxFlowOptimalDecisionTreeClassifier(max_depth=2, alpha=0)\n",
    "#mfoct.fit(x_train, y_train)"
   ]
  },
  {
   "cell_type": "code",
   "execution_count": 10,
   "id": "established-electricity",
   "metadata": {},
   "outputs": [],
   "source": [
    "#y_train_pred = mfoct.predict(x_train)\n",
    "#accuracy_score(y_train, y_train_pred)"
   ]
  },
  {
   "cell_type": "code",
   "execution_count": 11,
   "id": "australian-notebook",
   "metadata": {},
   "outputs": [],
   "source": [
    "#y_test_pred = mfoct.predict(x_test)\n",
    "#accuracy_score(y_test, y_test_pred)"
   ]
  },
  {
   "cell_type": "markdown",
   "id": "boxed-museum",
   "metadata": {},
   "source": [
    "## SK-Learn Decision Tree "
   ]
  },
  {
   "cell_type": "code",
   "execution_count": 12,
   "id": "parallel-terror",
   "metadata": {},
   "outputs": [
    {
     "data": {
      "text/plain": [
       "DecisionTreeClassifier(max_depth=2)"
      ]
     },
     "execution_count": 12,
     "metadata": {},
     "output_type": "execute_result"
    }
   ],
   "source": [
    "clf = tree.DecisionTreeClassifier(max_depth=2, min_samples_split=2)\n",
    "clf.fit(x_train, y_train)"
   ]
  },
  {
   "cell_type": "code",
   "execution_count": 13,
   "id": "adjusted-ukraine",
   "metadata": {},
   "outputs": [
    {
     "data": {
      "text/plain": [
       "0.7338709677419355"
      ]
     },
     "execution_count": 13,
     "metadata": {},
     "output_type": "execute_result"
    }
   ],
   "source": [
    "y_train_pred = clf.predict(x_train)\n",
    "accuracy_score(y_train, y_train_pred)"
   ]
  },
  {
   "cell_type": "code",
   "execution_count": 14,
   "id": "residential-serbia",
   "metadata": {},
   "outputs": [
    {
     "data": {
      "text/plain": [
       "0.75"
      ]
     },
     "execution_count": 14,
     "metadata": {},
     "output_type": "execute_result"
    }
   ],
   "source": [
    "y_test_pred = clf.predict(x_test)\n",
    "accuracy_score(y_test, y_test_pred)"
   ]
  },
  {
   "cell_type": "code",
   "execution_count": null,
   "id": "distinguished-drawing",
   "metadata": {},
   "outputs": [],
   "source": []
  }
 ],
 "metadata": {
  "kernelspec": {
   "display_name": "Python 3",
   "language": "python",
   "name": "python3"
  },
  "language_info": {
   "codemirror_mode": {
    "name": "ipython",
    "version": 3
   },
   "file_extension": ".py",
   "mimetype": "text/x-python",
   "name": "python",
   "nbconvert_exporter": "python",
   "pygments_lexer": "ipython3",
   "version": "3.7.10"
  }
 },
 "nbformat": 4,
 "nbformat_minor": 5
}
