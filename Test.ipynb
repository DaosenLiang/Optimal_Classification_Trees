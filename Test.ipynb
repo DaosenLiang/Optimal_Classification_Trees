{
 "cells": [
  {
   "cell_type": "markdown",
   "id": "aggregate-logan",
   "metadata": {},
   "source": [
    "## Import Packages "
   ]
  },
  {
   "cell_type": "code",
   "execution_count": 1,
   "id": "streaming-console",
   "metadata": {},
   "outputs": [],
   "source": [
    "import dataset\n",
    "import tree as miptree\n",
    "from sklearn import tree\n",
    "from sklearn.metrics import accuracy_score\n",
    "from sklearn.model_selection import train_test_split"
   ]
  },
  {
   "cell_type": "markdown",
   "id": "appreciated-thompson",
   "metadata": {},
   "source": [
    "## Load Data "
   ]
  },
  {
   "cell_type": "code",
   "execution_count": 2,
   "id": "recent-employee",
   "metadata": {},
   "outputs": [],
   "source": [
    "x, y = dataset.loadData('monks-1')"
   ]
  },
  {
   "cell_type": "code",
   "execution_count": 3,
   "id": "japanese-packing",
   "metadata": {},
   "outputs": [],
   "source": [
    "x_train, x_test, y_train, y_test = train_test_split(x, y, test_size=0.2, random_state=42)"
   ]
  },
  {
   "cell_type": "markdown",
   "id": "raised-bullet",
   "metadata": {},
   "source": [
    "## Optimal Classification Tree"
   ]
  },
  {
   "cell_type": "code",
   "execution_count": 4,
   "id": "ready-lawrence",
   "metadata": {},
   "outputs": [
    {
     "name": "stdout",
     "output_type": "stream",
     "text": [
      "Training data include 444 instances, 6 features.\n",
      "Academic license - for non-commercial use only - expires 2021-06-13\n",
      "Using license file C:\\Users\\Apocrypse\\gurobi.lic\n",
      "Changed value of parameter timelimit to 20.0\n",
      "   Prev: inf  Min: 0.0  Max: inf  Default: inf\n",
      "Parameter outputFlag unchanged\n",
      "   Value: 1  Min: 0  Max: 1  Default: 1\n",
      "Gurobi Optimizer version 9.1.1 build v9.1.1rc0 (win64)\n",
      "Thread count: 4 physical cores, 8 logical processors, using up to 8 threads\n",
      "Optimize a model with 5816 rows, 1828 columns and 40967 nonzeros\n",
      "Model fingerprint: 0x41bde399\n",
      "Variable types: 19 continuous, 1809 integer (1809 binary)\n",
      "Coefficient statistics:\n",
      "  Matrix range     [3e-01, 4e+02]\n",
      "  Objective range  [4e-03, 4e-03]\n",
      "  Bounds range     [1e+00, 1e+00]\n",
      "  RHS range        [1e+00, 4e+02]\n",
      "Presolve removed 5816 rows and 1828 columns\n",
      "Presolve time: 0.24s\n",
      "Presolve: All rows and columns removed\n",
      "\n",
      "Explored 0 nodes (0 simplex iterations) in 0.26 seconds\n",
      "Thread count was 1 (of 8 available processors)\n",
      "\n",
      "Solution count 1: 0.947368 \n",
      "\n",
      "Optimal solution found (tolerance 1.00e-04)\n",
      "Best objective 9.473684210526e-01, best bound 9.473684210526e-01, gap 0.0000%\n"
     ]
    }
   ],
   "source": [
    "octree = miptree.optimalDecisionTreeClassifier(max_depth=2, min_samples_split=0, alpha=0, timelimit=20)\n",
    "octree.fit(x_train, y_train)"
   ]
  },
  {
   "cell_type": "code",
   "execution_count": 5,
   "id": "prepared-forest",
   "metadata": {},
   "outputs": [
    {
     "data": {
      "text/plain": [
       "0.5135135135135135"
      ]
     },
     "execution_count": 5,
     "metadata": {},
     "output_type": "execute_result"
    }
   ],
   "source": [
    "y_train_pred = octree.predict(x_train)\n",
    "accuracy_score(y_train, y_train_pred)"
   ]
  },
  {
   "cell_type": "code",
   "execution_count": 6,
   "id": "strategic-midnight",
   "metadata": {},
   "outputs": [
    {
     "data": {
      "text/plain": [
       "0.44642857142857145"
      ]
     },
     "execution_count": 6,
     "metadata": {},
     "output_type": "execute_result"
    }
   ],
   "source": [
    "y_test_pred = octree.predict(x_test)\n",
    "accuracy_score(y_test, y_test_pred)"
   ]
  },
  {
   "cell_type": "markdown",
   "id": "involved-powell",
   "metadata": {},
   "source": [
    "## Binary Linear Optimal Classification Tree"
   ]
  },
  {
   "cell_type": "code",
   "execution_count": 7,
   "id": "overall-skating",
   "metadata": {
    "scrolled": false
   },
   "outputs": [
    {
     "name": "stdout",
     "output_type": "stream",
     "text": [
      "Training data include 444 instances, 6 features.\n",
      "Changed value of parameter timelimit to 20.0\n",
      "   Prev: inf  Min: 0.0  Max: inf  Default: inf\n",
      "Parameter outputFlag unchanged\n",
      "   Value: 1  Min: 0  Max: 1  Default: 1\n",
      "Gurobi Optimizer version 9.1.1 build v9.1.1rc0 (win64)\n",
      "Thread count: 4 physical cores, 8 logical processors, using up to 8 threads\n",
      "Optimize a model with 507 rows, 1816 columns and 17447 nonzeros\n",
      "Model fingerprint: 0xfd98031e\n",
      "Variable types: 1784 continuous, 32 integer (32 binary)\n",
      "Coefficient statistics:\n",
      "  Matrix range     [1e+00, 4e+02]\n",
      "  Objective range  [4e-03, 4e-03]\n",
      "  Bounds range     [1e+00, 1e+00]\n",
      "  RHS range        [1e+00, 4e+02]\n",
      "Found heuristic solution: objective 1.0087719\n",
      "Presolve removed 79 rows and 304 columns\n",
      "Presolve time: 0.04s\n",
      "Presolved: 428 rows, 1512 columns, 14683 nonzeros\n",
      "Variable types: 1484 continuous, 28 integer (28 binary)\n",
      "\n",
      "Root relaxation: objective 0.000000e+00, 40 iterations, 0.00 seconds\n",
      "\n",
      "    Nodes    |    Current Node    |     Objective Bounds      |     Work\n",
      " Expl Unexpl |  Obj  Depth IntInf | Incumbent    BestBd   Gap | It/Node Time\n",
      "\n",
      "     0     0    0.00000    0    9    1.00877    0.00000   100%     -    0s\n",
      "H    0     0                       0.9692982    0.00000   100%     -    0s\n",
      "H    0     0                       0.9473684    0.00000   100%     -    0s\n",
      "H    0     0                       0.6535088    0.00000   100%     -    0s\n",
      "H    0     0                       0.5921053    0.00000   100%     -    0s\n",
      "     0     0    0.00000    0   13    0.59211    0.00000   100%     -    0s\n",
      "     0     0    0.00000    0   13    0.59211    0.00000   100%     -    0s\n",
      "H    0     0                       0.5877193    0.00000   100%     -    0s\n",
      "     0     0    0.00000    0    8    0.58772    0.00000   100%     -    0s\n",
      "     0     0    0.00000    0   10    0.58772    0.00000   100%     -    0s\n",
      "     0     0    0.00000    0    4    0.58772    0.00000   100%     -    0s\n",
      "H    0     0                       0.4692982    0.00000   100%     -    0s\n",
      "     0     0    0.00000    0    7    0.46930    0.00000   100%     -    0s\n",
      "     0     0    0.00000    0    7    0.46930    0.00000   100%     -    0s\n",
      "     0     0    0.00000    0    7    0.46930    0.00000   100%     -    0s\n",
      "     0     2    0.00000    0    7    0.46930    0.00000   100%     -    0s\n",
      "*  319   122              15       0.4210526    0.00000   100%  52.2    1s\n",
      "*  854   199              16       0.3903509    0.04825  87.6%  48.4    1s\n",
      "\n",
      "Cutting planes:\n",
      "  Gomory: 1\n",
      "  Implied bound: 1193\n",
      "  MIR: 71\n",
      "  Inf proof: 35\n",
      "  RLT: 18\n",
      "  Relax-and-lift: 242\n",
      "\n",
      "Explored 2547 nodes (155773 simplex iterations) in 4.79 seconds\n",
      "Thread count was 8 (of 8 available processors)\n",
      "\n",
      "Solution count 9: 0.390351 0.421053 0.469298 ... 1.00877\n",
      "\n",
      "Optimal solution found (tolerance 1.00e-04)\n",
      "Best objective 3.903508771930e-01, best bound 3.903508771930e-01, gap 0.0000%\n"
     ]
    }
   ],
   "source": [
    "boct = miptree.binOptimalDecisionTreeClassifier(max_depth=2, min_samples_split=0, timelimit=20)\n",
    "boct.fit(x_train, y_train)"
   ]
  },
  {
   "cell_type": "code",
   "execution_count": 8,
   "id": "incorporate-cisco",
   "metadata": {},
   "outputs": [
    {
     "data": {
      "text/plain": [
       "0.7995495495495496"
      ]
     },
     "execution_count": 8,
     "metadata": {},
     "output_type": "execute_result"
    }
   ],
   "source": [
    "y_train_pred = boct.predict(x_train)\n",
    "accuracy_score(y_train, y_train_pred)"
   ]
  },
  {
   "cell_type": "code",
   "execution_count": 9,
   "id": "fresh-curve",
   "metadata": {},
   "outputs": [
    {
     "data": {
      "text/plain": [
       "0.6875"
      ]
     },
     "execution_count": 9,
     "metadata": {},
     "output_type": "execute_result"
    }
   ],
   "source": [
    "y_test_pred = boct.predict(x_test)\n",
    "accuracy_score(y_test, y_test_pred)"
   ]
  },
  {
   "cell_type": "markdown",
   "id": "roman-raise",
   "metadata": {},
   "source": [
    "## Max Flow Classification Tree"
   ]
  },
  {
   "cell_type": "code",
   "execution_count": 10,
   "id": "neutral-samuel",
   "metadata": {},
   "outputs": [],
   "source": [
    "x_train_enc = dataset.oneHot(x_train)\n",
    "x_test_enc = dataset.oneHot(x_test)"
   ]
  },
  {
   "cell_type": "code",
   "execution_count": 11,
   "id": "lined-links",
   "metadata": {},
   "outputs": [
    {
     "name": "stdout",
     "output_type": "stream",
     "text": [
      "Parameter outputFlag unchanged\n",
      "   Value: 1  Min: 0  Max: 1  Default: 1\n",
      "Changed value of parameter timelimit to 20.0\n",
      "   Prev: inf  Min: 0.0  Max: inf  Default: inf\n",
      "Changed value of parameter lazyConstraints to 1\n",
      "   Prev: 0  Min: 0  Max: 1  Default: 0\n",
      "Gurobi Optimizer version 9.1.1 build v9.1.1rc0 (win64)\n",
      "Thread count: 4 physical cores, 8 logical processors, using up to 8 threads\n",
      "Optimize a model with 14 rows, 510 columns and 83 nonzeros\n",
      "Model fingerprint: 0x4cfaca67\n",
      "Variable types: 444 continuous, 66 integer (66 binary)\n",
      "Coefficient statistics:\n",
      "  Matrix range     [1e+00, 1e+00]\n",
      "  Objective range  [4e-03, 4e-03]\n",
      "  Bounds range     [1e+00, 1e+00]\n",
      "  RHS range        [1e+00, 1e+00]\n",
      "Presolve removed 6 rows and 6 columns\n",
      "Presolve time: 0.00s\n",
      "Presolved: 8 rows, 504 columns, 73 nonzeros\n",
      "Variable types: 444 continuous, 60 integer (60 binary)\n",
      "\n",
      "Root relaxation: objective 1.947368e+00, 5 iterations, 0.00 seconds\n",
      "\n",
      "    Nodes    |    Current Node    |     Objective Bounds      |     Work\n",
      " Expl Unexpl |  Obj  Depth IntInf | Incumbent    BestBd   Gap | It/Node Time\n",
      "\n",
      "     0     0    1.94737    0    4          -    1.94737      -     -    0s\n",
      "H    0     0                       1.1666667    1.94737  66.9%     -    0s\n",
      "H    0     0                       1.1798246    1.94737  65.1%     -    0s\n",
      "H    0     0                       1.1885965    1.94737  63.8%     -    0s\n",
      "     0     0    1.94737    0    6    1.18860    1.94737  63.8%     -    0s\n",
      "     0     2    1.94737    0    6    1.18860    1.94737  63.8%     -    0s\n",
      "H   62    52                       1.2850877    1.94737  51.5%  86.7    1s\n",
      "H   66    52                       1.5087719    1.94737  29.1%  90.2    1s\n",
      "*  163    98              19       1.5263158    1.94737  27.6%  85.9    1s\n",
      "*  873    75               9       1.5482456    1.61111  4.06%  77.7    4s\n",
      "*  918     0              21       1.5570175    1.59649  2.54%  75.2    4s\n",
      "\n",
      "Cutting planes:\n",
      "  Lazy constraints: 1887\n",
      "\n",
      "Explored 974 nodes (69795 simplex iterations) in 4.10 seconds\n",
      "Thread count was 8 (of 8 available processors)\n",
      "\n",
      "Solution count 8: 1.55702 1.54825 1.52632 ... 1.16667\n",
      "\n",
      "Optimal solution found (tolerance 1.00e-04)\n",
      "Best objective 1.557017543860e+00, best bound 1.557017543860e+00, gap 0.0000%\n",
      "\n",
      "User-callback calls 2156, time in user-callback 1.44 sec\n"
     ]
    }
   ],
   "source": [
    "mfoct = miptree.maxFlowOptimalDecisionTreeClassifier(max_depth=2, alpha=0, timelimit=20)\n",
    "mfoct.fit(x_train_enc, y_train)"
   ]
  },
  {
   "cell_type": "code",
   "execution_count": 12,
   "id": "established-electricity",
   "metadata": {},
   "outputs": [
    {
     "data": {
      "text/plain": [
       "0.7995495495495496"
      ]
     },
     "execution_count": 12,
     "metadata": {},
     "output_type": "execute_result"
    }
   ],
   "source": [
    "y_train_pred = mfoct.predict(x_train_enc)\n",
    "accuracy_score(y_train, y_train_pred)"
   ]
  },
  {
   "cell_type": "code",
   "execution_count": 13,
   "id": "australian-notebook",
   "metadata": {},
   "outputs": [
    {
     "data": {
      "text/plain": [
       "0.6875"
      ]
     },
     "execution_count": 13,
     "metadata": {},
     "output_type": "execute_result"
    }
   ],
   "source": [
    "y_test_pred = mfoct.predict(x_test_enc)\n",
    "accuracy_score(y_test, y_test_pred)"
   ]
  },
  {
   "cell_type": "markdown",
   "id": "boxed-museum",
   "metadata": {},
   "source": [
    "## SK-Learn Decision Tree "
   ]
  },
  {
   "cell_type": "code",
   "execution_count": 14,
   "id": "parallel-terror",
   "metadata": {},
   "outputs": [
    {
     "data": {
      "text/plain": [
       "DecisionTreeClassifier(max_depth=2)"
      ]
     },
     "execution_count": 14,
     "metadata": {},
     "output_type": "execute_result"
    }
   ],
   "source": [
    "clf = tree.DecisionTreeClassifier(max_depth=2)\n",
    "clf.fit(x_train, y_train)"
   ]
  },
  {
   "cell_type": "code",
   "execution_count": 15,
   "id": "adjusted-ukraine",
   "metadata": {},
   "outputs": [
    {
     "data": {
      "text/plain": [
       "0.759009009009009"
      ]
     },
     "execution_count": 15,
     "metadata": {},
     "output_type": "execute_result"
    }
   ],
   "source": [
    "y_train_pred = clf.predict(x_train)\n",
    "accuracy_score(y_train, y_train_pred)"
   ]
  },
  {
   "cell_type": "code",
   "execution_count": 16,
   "id": "residential-serbia",
   "metadata": {},
   "outputs": [
    {
     "data": {
      "text/plain": [
       "0.6964285714285714"
      ]
     },
     "execution_count": 16,
     "metadata": {},
     "output_type": "execute_result"
    }
   ],
   "source": [
    "y_test_pred = clf.predict(x_test)\n",
    "accuracy_score(y_test, y_test_pred)"
   ]
  },
  {
   "cell_type": "code",
   "execution_count": null,
   "id": "combined-hudson",
   "metadata": {},
   "outputs": [],
   "source": []
  }
 ],
 "metadata": {
  "kernelspec": {
   "display_name": "Python 3",
   "language": "python",
   "name": "python3"
  },
  "language_info": {
   "codemirror_mode": {
    "name": "ipython",
    "version": 3
   },
   "file_extension": ".py",
   "mimetype": "text/x-python",
   "name": "python",
   "nbconvert_exporter": "python",
   "pygments_lexer": "ipython3",
   "version": "3.7.10"
  }
 },
 "nbformat": 4,
 "nbformat_minor": 5
}
