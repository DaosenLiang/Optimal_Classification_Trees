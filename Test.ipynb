{
 "cells": [
  {
   "cell_type": "code",
   "execution_count": 1,
   "id": "streaming-console",
   "metadata": {},
   "outputs": [],
   "source": [
    "import dataset\n",
    "import tree"
   ]
  },
  {
   "cell_type": "code",
   "execution_count": 2,
   "id": "recent-employee",
   "metadata": {},
   "outputs": [],
   "source": [
    "x_train, y_train, x_test, y_test = dataset.loadData('monks-1')"
   ]
  },
  {
   "cell_type": "code",
   "execution_count": 3,
   "id": "ready-lawrence",
   "metadata": {},
   "outputs": [
    {
     "name": "stdout",
     "output_type": "stream",
     "text": [
      "Training data include 124 instances, 6 features.\n",
      "\n",
      "--------------------------------------------\n",
      "Warning: your license will expire in 11 days\n",
      "--------------------------------------------\n",
      "\n",
      "Academic license - for non-commercial use only - expires 2021-04-13\n",
      "Using license file C:\\Users\\Apocrypse\\gurobi.lic\n",
      "Gurobi Optimizer version 9.1.1 build v9.1.1rc0 (win64)\n",
      "Thread count: 4 physical cores, 8 logical processors, using up to 8 threads\n",
      "Optimize a model with 1656 rows, 548 columns and 11531 nonzeros\n",
      "Model fingerprint: 0xc4e6d954\n",
      "Variable types: 19 continuous, 529 integer (529 binary)\n",
      "Coefficient statistics:\n",
      "  Matrix range     [3e-01, 1e+02]\n",
      "  Objective range  [1e-02, 2e-02]\n",
      "  Bounds range     [1e+00, 1e+00]\n",
      "  RHS range        [1e+00, 1e+02]\n",
      "Found heuristic solution: objective 1.0000000\n",
      "Presolve removed 137 rows and 9 columns\n",
      "Presolve time: 0.05s\n",
      "Presolved: 1519 rows, 539 columns, 9889 nonzeros\n",
      "Variable types: 0 continuous, 539 integer (524 binary)\n",
      "\n",
      "Root relaxation: objective 3.026851e-03, 670 iterations, 0.02 seconds\n",
      "\n",
      "    Nodes    |    Current Node    |     Objective Bounds      |     Work\n",
      " Expl Unexpl |  Obj  Depth IntInf | Incumbent    BestBd   Gap | It/Node Time\n",
      "\n",
      "     0     0    0.01000    0  254    1.00000    0.01000  99.0%     -    0s\n",
      "H    0     0                       0.9777419    0.01000  99.0%     -    0s\n",
      "H    0     0                       0.7680645    0.01000  98.7%     -    0s\n",
      "     0     0    0.01404    0  333    0.76806    0.01404  98.2%     -    0s\n",
      "H    0     0                       0.5300000    0.01404  97.4%     -    0s\n",
      "     0     0    0.01474    0  335    0.53000    0.01474  97.2%     -    0s\n",
      "     0     0    0.01474    0  318    0.53000    0.01474  97.2%     -    0s\n",
      "H    0     0                       0.4977419    0.02000  96.0%     -    1s\n",
      "     0     0    0.02000    0  185    0.49774    0.02000  96.0%     -    1s\n",
      "     0     0    0.02000    0  222    0.49774    0.02000  96.0%     -    1s\n",
      "     0     0    0.02000    0  283    0.49774    0.02000  96.0%     -    1s\n",
      "     0     0    0.02000    0  316    0.49774    0.02000  96.0%     -    1s\n",
      "     0     0    0.02000    0  311    0.49774    0.02000  96.0%     -    1s\n",
      "     0     0    0.02000    0  169    0.49774    0.02000  96.0%     -    1s\n",
      "     0     0    0.02000    0  174    0.49774    0.02000  96.0%     -    1s\n",
      "     0     0    0.02000    0  221    0.49774    0.02000  96.0%     -    1s\n",
      "     0     0    0.02000    0  207    0.49774    0.02000  96.0%     -    1s\n",
      "     0     0    0.02000    0  238    0.49774    0.02000  96.0%     -    1s\n",
      "     0     0    0.02000    0  170    0.49774    0.02000  96.0%     -    1s\n",
      "     0     0    0.02000    0  235    0.49774    0.02000  96.0%     -    1s\n",
      "     0     0    0.02000    0  185    0.49774    0.02000  96.0%     -    2s\n",
      "     0     0    0.02023    0  165    0.49774    0.02023  95.9%     -    2s\n",
      "     0     2    0.02023    0  161    0.49774    0.02023  95.9%     -    2s\n",
      "H 1034   365                       0.4332258    0.03613  91.7%  45.4    4s\n",
      "H 1336   408                       0.3848387    0.03613  90.6%  50.1    4s\n",
      "  1470   421 infeasible   12         0.38484    0.03613  90.6%  50.5    5s\n",
      "  3864   599     cutoff   49         0.38484    0.12677  67.1%  54.7   10s\n",
      "  4282   597    0.12677   25  230    0.38484    0.12677  67.1%  59.0   15s\n",
      "  5356   587 infeasible   29         0.38484    0.12677  67.1%  72.1   20s\n",
      "  5621   551    0.21958   25  119    0.38484    0.12677  67.1%  79.2   25s\n",
      "  7055   826    0.12677   29  219    0.38484    0.12677  67.1%  83.5   30s\n",
      "  8878  1277 infeasible   34         0.38484    0.12677  67.1%  86.1   35s\n",
      " 10460  1404    0.21280   43  115    0.38484    0.12677  67.1%  92.3   40s\n",
      "\n",
      "Explored 13796 nodes (1144526 simplex iterations) in 43.82 seconds\n",
      "Thread count was 8 (of 8 available processors)\n",
      "\n",
      "Solution count 7: 0.384839 0.433226 0.497742 ... 1\n",
      "\n",
      "Optimal solution found (tolerance 1.00e-04)\n",
      "Best objective 3.848387096774e-01, best bound 3.848387096774e-01, gap 0.0000%\n"
     ]
    }
   ],
   "source": [
    "octree = tree.optimalDecisionTreeClassifier(max_depth=2, alpha=0.01)\n",
    "octree.fit(x_train, y_train)"
   ]
  },
  {
   "cell_type": "code",
   "execution_count": 4,
   "id": "patient-vertical",
   "metadata": {},
   "outputs": [],
   "source": [
    "from sklearn.metrics import accuracy_score"
   ]
  },
  {
   "cell_type": "code",
   "execution_count": 5,
   "id": "organized-tunnel",
   "metadata": {},
   "outputs": [
    {
     "data": {
      "text/plain": [
       "0.8225806451612904"
      ]
     },
     "execution_count": 5,
     "metadata": {},
     "output_type": "execute_result"
    }
   ],
   "source": [
    "y_train_pred = octree.predict(x_train)\n",
    "accuracy_score(y_train, y_train_pred)"
   ]
  },
  {
   "cell_type": "code",
   "execution_count": 6,
   "id": "classified-barcelona",
   "metadata": {},
   "outputs": [
    {
     "data": {
      "text/plain": [
       "0.7222222222222222"
      ]
     },
     "execution_count": 6,
     "metadata": {},
     "output_type": "execute_result"
    }
   ],
   "source": [
    "y_test_pred = octree.predict(x_test)\n",
    "accuracy_score(y_test, y_test_pred)"
   ]
  }
 ],
 "metadata": {
  "kernelspec": {
   "display_name": "Python 3",
   "language": "python",
   "name": "python3"
  },
  "language_info": {
   "codemirror_mode": {
    "name": "ipython",
    "version": 3
   },
   "file_extension": ".py",
   "mimetype": "text/x-python",
   "name": "python",
   "nbconvert_exporter": "python",
   "pygments_lexer": "ipython3",
   "version": "3.7.10"
  }
 },
 "nbformat": 4,
 "nbformat_minor": 5
}
