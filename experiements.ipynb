{
 "cells": [
  {
   "cell_type": "code",
   "execution_count": 1,
   "id": "leading-medium",
   "metadata": {},
   "outputs": [],
   "source": [
    "import time"
   ]
  },
  {
   "cell_type": "code",
   "execution_count": 2,
   "id": "indonesian-smell",
   "metadata": {},
   "outputs": [],
   "source": [
    "import pandas as pd\n",
    "from sklearn.metrics import accuracy_score\n",
    "from sklearn.model_selection import train_test_split"
   ]
  },
  {
   "cell_type": "code",
   "execution_count": 3,
   "id": "likely-aluminum",
   "metadata": {},
   "outputs": [],
   "source": [
    "import dataset\n",
    "import tree as miptree\n",
    "from sklearn import tree"
   ]
  },
  {
   "cell_type": "code",
   "execution_count": 4,
   "id": "obvious-hollow",
   "metadata": {},
   "outputs": [],
   "source": [
    "timelimit = 600\n",
    "datasets = ['balance-scale', 'breast-cancer', 'car-evaluation', 'hayes-roth', 'house-votes-84', \n",
    "            'soybean-small', 'spect', 'tic-tac-toe', 'monks-1', 'monks-2', 'monks-3']\n",
    "alpha = [0, 0.01, 0.1]\n",
    "depth = [2, 3, 4, 5]\n",
    "seeds = [31, 42, 53]"
   ]
  },
  {
   "cell_type": "code",
   "execution_count": 5,
   "id": "tested-steam",
   "metadata": {},
   "outputs": [],
   "source": [
    "train_ratio = 0.5\n",
    "val_ratio = 0.25\n",
    "test_ratio = 0.25"
   ]
  },
  {
   "cell_type": "code",
   "execution_count": 6,
   "id": "rotary-budapest",
   "metadata": {},
   "outputs": [],
   "source": [
    "# create table\n",
    "res_sk = pd.DataFrame(columns=['instance', 'depth', 'seed', 'train_acc', 'val_acc', 'test_acc', 'train_time'])\n",
    "res_oct = pd.DataFrame(columns=['instance', 'depth', 'alpha', 'seed', 'train_acc', 'val_acc', 'test_acc', 'train_time'])\n",
    "res_mfoct = pd.DataFrame(columns=['instance', 'depth', 'alpha', 'seed', 'train_acc', 'val_acc', 'test_acc', 'train_time'])\n",
    "res_boct = pd.DataFrame(columns=['instance', 'depth', 'seed', 'train_acc', 'val_acc', 'test_acc', 'train_time'])"
   ]
  },
  {
   "cell_type": "code",
   "execution_count": 7,
   "id": "defensive-domain",
   "metadata": {},
   "outputs": [],
   "source": [
    "for s in seeds:\n",
    "    for d in depth:\n",
    "        for data in datasets:\n",
    "            x, y = dataset.loadData(data)\n",
    "            x_train, x_test, y_train, y_test = train_test_split(x, y, test_size=1-train_ratio, random_state=s)\n",
    "            x_val, x_test, y_val, y_test = train_test_split(x_test, y_test, \n",
    "                                                            test_size=test_ratio/(test_ratio+val_ratio), random_state=s)\n",
    "            clf = tree.DecisionTreeClassifier(max_depth=2)\n",
    "            tick = time.time()\n",
    "            clf.fit(x_train, y_train)\n",
    "            tock = time.time()\n",
    "            train_time = tock - tick\n",
    "            train_acc = accuracy_score(y_train, clf.predict(x_train))\n",
    "            val_acc = accuracy_score(y_val, clf.predict(x_val))\n",
    "            test_acc = accuracy_score(y_test, clf.predict(x_test))\n",
    "            row = {'instance':data, 'depth':d, 'seed':s, 'train_acc':train_acc, \n",
    "                   'val_acc':val_acc, 'test_acc':test_acc, 'train_time':train_time}\n",
    "            res_sk = res_sk.append(row, ignore_index=True)\n",
    "            res_sk.to_csv('./res/sk.csv', index=False)"
   ]
  },
  {
   "cell_type": "code",
   "execution_count": 8,
   "id": "comic-unemployment",
   "metadata": {},
   "outputs": [
    {
     "name": "stdout",
     "output_type": "stream",
     "text": [
      "Training data include 312 instances, 4 features.\n",
      "Academic license - for non-commercial use only - expires 2021-06-13\n",
      "Using license file C:\\Users\\Apocrypse\\gurobi.lic\n",
      "Changed value of parameter timelimit to 600.0\n",
      "   Prev: inf  Min: 0.0  Max: inf  Default: inf\n"
     ]
    },
    {
     "ename": "PermissionError",
     "evalue": "[Errno 13] Permission denied: './res/oct.csv'",
     "output_type": "error",
     "traceback": [
      "\u001b[1;31m---------------------------------------------------------------------------\u001b[0m",
      "\u001b[1;31mPermissionError\u001b[0m                           Traceback (most recent call last)",
      "\u001b[1;32m<ipython-input-8-7304c9139914>\u001b[0m in \u001b[0;36m<module>\u001b[1;34m\u001b[0m\n\u001b[0;32m     28\u001b[0m                        'test_acc':test_acc, 'train_time':train_time}\n\u001b[0;32m     29\u001b[0m                 \u001b[0mres_oct\u001b[0m \u001b[1;33m=\u001b[0m \u001b[0mres_oct\u001b[0m\u001b[1;33m.\u001b[0m\u001b[0mappend\u001b[0m\u001b[1;33m(\u001b[0m\u001b[0mrow\u001b[0m\u001b[1;33m,\u001b[0m \u001b[0mignore_index\u001b[0m\u001b[1;33m=\u001b[0m\u001b[1;32mTrue\u001b[0m\u001b[1;33m)\u001b[0m\u001b[1;33m\u001b[0m\u001b[1;33m\u001b[0m\u001b[0m\n\u001b[1;32m---> 30\u001b[1;33m                 \u001b[0mres_oct\u001b[0m\u001b[1;33m.\u001b[0m\u001b[0mto_csv\u001b[0m\u001b[1;33m(\u001b[0m\u001b[1;34m'./res/oct.csv'\u001b[0m\u001b[1;33m,\u001b[0m \u001b[0mindex\u001b[0m\u001b[1;33m=\u001b[0m\u001b[1;32mFalse\u001b[0m\u001b[1;33m)\u001b[0m\u001b[1;33m\u001b[0m\u001b[1;33m\u001b[0m\u001b[0m\n\u001b[0m\u001b[0;32m     31\u001b[0m                 \u001b[1;31m#print(row)\u001b[0m\u001b[1;33m\u001b[0m\u001b[1;33m\u001b[0m\u001b[1;33m\u001b[0m\u001b[0m\n\u001b[0;32m     32\u001b[0m \u001b[1;33m\u001b[0m\u001b[0m\n",
      "\u001b[1;32mD:\\Anaconda3\\lib\\site-packages\\pandas\\core\\generic.py\u001b[0m in \u001b[0;36mto_csv\u001b[1;34m(self, path_or_buf, sep, na_rep, float_format, columns, header, index, index_label, mode, encoding, compression, quoting, quotechar, line_terminator, chunksize, date_format, doublequote, escapechar, decimal, errors, storage_options)\u001b[0m\n\u001b[0;32m   3401\u001b[0m             \u001b[0mdoublequote\u001b[0m\u001b[1;33m=\u001b[0m\u001b[0mdoublequote\u001b[0m\u001b[1;33m,\u001b[0m\u001b[1;33m\u001b[0m\u001b[1;33m\u001b[0m\u001b[0m\n\u001b[0;32m   3402\u001b[0m             \u001b[0mescapechar\u001b[0m\u001b[1;33m=\u001b[0m\u001b[0mescapechar\u001b[0m\u001b[1;33m,\u001b[0m\u001b[1;33m\u001b[0m\u001b[1;33m\u001b[0m\u001b[0m\n\u001b[1;32m-> 3403\u001b[1;33m             \u001b[0mstorage_options\u001b[0m\u001b[1;33m=\u001b[0m\u001b[0mstorage_options\u001b[0m\u001b[1;33m,\u001b[0m\u001b[1;33m\u001b[0m\u001b[1;33m\u001b[0m\u001b[0m\n\u001b[0m\u001b[0;32m   3404\u001b[0m         )\n\u001b[0;32m   3405\u001b[0m \u001b[1;33m\u001b[0m\u001b[0m\n",
      "\u001b[1;32mD:\\Anaconda3\\lib\\site-packages\\pandas\\io\\formats\\format.py\u001b[0m in \u001b[0;36mto_csv\u001b[1;34m(self, path_or_buf, encoding, sep, columns, index_label, mode, compression, quoting, quotechar, line_terminator, chunksize, date_format, doublequote, escapechar, errors, storage_options)\u001b[0m\n\u001b[0;32m   1081\u001b[0m             \u001b[0mformatter\u001b[0m\u001b[1;33m=\u001b[0m\u001b[0mself\u001b[0m\u001b[1;33m.\u001b[0m\u001b[0mfmt\u001b[0m\u001b[1;33m,\u001b[0m\u001b[1;33m\u001b[0m\u001b[1;33m\u001b[0m\u001b[0m\n\u001b[0;32m   1082\u001b[0m         )\n\u001b[1;32m-> 1083\u001b[1;33m         \u001b[0mcsv_formatter\u001b[0m\u001b[1;33m.\u001b[0m\u001b[0msave\u001b[0m\u001b[1;33m(\u001b[0m\u001b[1;33m)\u001b[0m\u001b[1;33m\u001b[0m\u001b[1;33m\u001b[0m\u001b[0m\n\u001b[0m\u001b[0;32m   1084\u001b[0m \u001b[1;33m\u001b[0m\u001b[0m\n\u001b[0;32m   1085\u001b[0m         \u001b[1;32mif\u001b[0m \u001b[0mcreated_buffer\u001b[0m\u001b[1;33m:\u001b[0m\u001b[1;33m\u001b[0m\u001b[1;33m\u001b[0m\u001b[0m\n",
      "\u001b[1;32mD:\\Anaconda3\\lib\\site-packages\\pandas\\io\\formats\\csvs.py\u001b[0m in \u001b[0;36msave\u001b[1;34m(self)\u001b[0m\n\u001b[0;32m    232\u001b[0m             \u001b[0merrors\u001b[0m\u001b[1;33m=\u001b[0m\u001b[0mself\u001b[0m\u001b[1;33m.\u001b[0m\u001b[0merrors\u001b[0m\u001b[1;33m,\u001b[0m\u001b[1;33m\u001b[0m\u001b[1;33m\u001b[0m\u001b[0m\n\u001b[0;32m    233\u001b[0m             \u001b[0mcompression\u001b[0m\u001b[1;33m=\u001b[0m\u001b[0mself\u001b[0m\u001b[1;33m.\u001b[0m\u001b[0mcompression\u001b[0m\u001b[1;33m,\u001b[0m\u001b[1;33m\u001b[0m\u001b[1;33m\u001b[0m\u001b[0m\n\u001b[1;32m--> 234\u001b[1;33m             \u001b[0mstorage_options\u001b[0m\u001b[1;33m=\u001b[0m\u001b[0mself\u001b[0m\u001b[1;33m.\u001b[0m\u001b[0mstorage_options\u001b[0m\u001b[1;33m,\u001b[0m\u001b[1;33m\u001b[0m\u001b[1;33m\u001b[0m\u001b[0m\n\u001b[0m\u001b[0;32m    235\u001b[0m         ) as handles:\n\u001b[0;32m    236\u001b[0m \u001b[1;33m\u001b[0m\u001b[0m\n",
      "\u001b[1;32mD:\\Anaconda3\\lib\\site-packages\\pandas\\io\\common.py\u001b[0m in \u001b[0;36mget_handle\u001b[1;34m(path_or_buf, mode, encoding, compression, memory_map, is_text, errors, storage_options)\u001b[0m\n\u001b[0;32m    645\u001b[0m                 \u001b[0mencoding\u001b[0m\u001b[1;33m=\u001b[0m\u001b[0mioargs\u001b[0m\u001b[1;33m.\u001b[0m\u001b[0mencoding\u001b[0m\u001b[1;33m,\u001b[0m\u001b[1;33m\u001b[0m\u001b[1;33m\u001b[0m\u001b[0m\n\u001b[0;32m    646\u001b[0m                 \u001b[0merrors\u001b[0m\u001b[1;33m=\u001b[0m\u001b[0merrors\u001b[0m\u001b[1;33m,\u001b[0m\u001b[1;33m\u001b[0m\u001b[1;33m\u001b[0m\u001b[0m\n\u001b[1;32m--> 647\u001b[1;33m                 \u001b[0mnewline\u001b[0m\u001b[1;33m=\u001b[0m\u001b[1;34m\"\"\u001b[0m\u001b[1;33m,\u001b[0m\u001b[1;33m\u001b[0m\u001b[1;33m\u001b[0m\u001b[0m\n\u001b[0m\u001b[0;32m    648\u001b[0m             )\n\u001b[0;32m    649\u001b[0m         \u001b[1;32melse\u001b[0m\u001b[1;33m:\u001b[0m\u001b[1;33m\u001b[0m\u001b[1;33m\u001b[0m\u001b[0m\n",
      "\u001b[1;31mPermissionError\u001b[0m: [Errno 13] Permission denied: './res/oct.csv'"
     ]
    }
   ],
   "source": [
    "for s in seeds:\n",
    "    for d in depth:\n",
    "        for data in datasets:\n",
    "            # load data\n",
    "            x, y = dataset.loadData(data)\n",
    "            # onehot encoding\n",
    "            x_enc = dataset.oneHot(x)\n",
    "            # data splition\n",
    "            x_train, x_test, y_train, y_test = train_test_split(x, y, test_size=1-train_ratio, random_state=s)\n",
    "            x_val, x_test, y_val, y_test = train_test_split(x_test, y_test, \n",
    "                                                            test_size=test_ratio/(test_ratio+val_ratio), random_state=s)\n",
    "            x_train_enc, x_test_enc, y_train, y_test = train_test_split(x_enc, y, test_size=1-train_ratio, random_state=s)\n",
    "            x_val_enc, x_test_enc, y_val, y_test = train_test_split(x_test_enc, y_test, \n",
    "                                                                    test_size=test_ratio/(test_ratio+val_ratio), random_state=s)\n",
    "            \n",
    "            for a in alpha:\n",
    "                # oct\n",
    "                octree = miptree.optimalDecisionTreeClassifier(max_depth=d, min_samples_split=0, alpha=a,\n",
    "                                                               timelimit=timelimit, output=False)\n",
    "                tick = time.time()\n",
    "                octree.fit(x_train, y_train)\n",
    "                tock = time.time()\n",
    "                train_time = tock - tick\n",
    "                train_acc = accuracy_score(y_train, octree.predict(x_train))\n",
    "                val_acc = accuracy_score(y_val, octree.predict(x_val))\n",
    "                test_acc = accuracy_score(y_test, octree.predict(x_test))\n",
    "                row = {'instance':data, 'depth':d, 'alpha':a, 'seed':s, 'train_acc':train_acc, 'val_acc':val_acc,\n",
    "                       'test_acc':test_acc, 'train_time':train_time}\n",
    "                res_oct = res_oct.append(row, ignore_index=True)\n",
    "                res_oct.to_csv('./res/oct.csv', index=False)\n",
    "                #print(row)\n",
    "                \n",
    "                # mfoct\n",
    "                mfoct = miptree.maxFlowOptimalDecisionTreeClassifier(max_depth=d, alpha=a,\n",
    "                                                                     timelimit=timelimit, output=False)\n",
    "                tick = time.time()\n",
    "                mfoct.fit(x_train_enc, y_train)\n",
    "                tock = time.time()\n",
    "                train_time = tock - tick\n",
    "                train_acc = accuracy_score(y_train, mfoct.predict(x_train_enc))\n",
    "                val_acc = accuracy_score(y_val, mfoct.predict(x_val_enc))\n",
    "                test_acc = accuracy_score(y_test, mfoct.predict(x_test_enc))\n",
    "                row = {'instance':data, 'depth':d, 'alpha':a, 'seed':s, 'train_acc':train_acc, 'val_acc':val_acc,\n",
    "                       'test_acc':test_acc, 'train_time':train_time}\n",
    "                res_mfoct = res_mfoct.append(row, ignore_index=True)\n",
    "                res_mfoct.to_csv('./res/mfoct.csv', index=False)\n",
    "                #print(row)\n",
    "            \n",
    "            # boct\n",
    "            boct = miptree.binOptimalDecisionTreeClassifier(max_depth=d, min_samples_split=0,\n",
    "                                                            timelimit=timelimit, output=False)\n",
    "            tick = time.time()\n",
    "            boct.fit(x_train, y_train)\n",
    "            tock = time.time()\n",
    "            train_time = tock - tick\n",
    "            train_acc = accuracy_score(y_train, boct.predict(x_train))\n",
    "            val_acc = accuracy_score(y_val, boct.predict(x_val))\n",
    "            test_acc = accuracy_score(y_test, boct.predict(x_test))\n",
    "            row = {'instance':data, 'depth':d, 'seed':s, 'train_acc':train_acc, 'val_acc':val_acc,\n",
    "                   'test_acc':test_acc, 'train_time':train_time}\n",
    "            res_boct = res_boct.append(row, ignore_index=True)\n",
    "            res_boct.to_csv('./res/boct.csv', index=False)\n",
    "            #print(row)"
   ]
  },
  {
   "cell_type": "code",
   "execution_count": null,
   "id": "round-sarah",
   "metadata": {},
   "outputs": [],
   "source": []
  }
 ],
 "metadata": {
  "kernelspec": {
   "display_name": "Python 3",
   "language": "python",
   "name": "python3"
  },
  "language_info": {
   "codemirror_mode": {
    "name": "ipython",
    "version": 3
   },
   "file_extension": ".py",
   "mimetype": "text/x-python",
   "name": "python",
   "nbconvert_exporter": "python",
   "pygments_lexer": "ipython3",
   "version": "3.7.10"
  }
 },
 "nbformat": 4,
 "nbformat_minor": 5
}
