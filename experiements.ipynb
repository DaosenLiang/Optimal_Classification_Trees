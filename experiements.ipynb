{
 "cells": [
  {
   "cell_type": "code",
   "execution_count": 1,
   "id": "opening-round",
   "metadata": {},
   "outputs": [],
   "source": [
    "import time"
   ]
  },
  {
   "cell_type": "code",
   "execution_count": 2,
   "id": "detailed-coordinate",
   "metadata": {},
   "outputs": [],
   "source": [
    "import pandas as pd\n",
    "from sklearn.metrics import accuracy_score\n",
    "from sklearn.model_selection import train_test_split"
   ]
  },
  {
   "cell_type": "code",
   "execution_count": 3,
   "id": "martial-given",
   "metadata": {},
   "outputs": [],
   "source": [
    "import dataset\n",
    "import tree as miptree\n",
    "from sklearn import tree"
   ]
  },
  {
   "cell_type": "code",
   "execution_count": 4,
   "id": "needed-rider",
   "metadata": {},
   "outputs": [],
   "source": [
    "timelimit = 600\n",
    "datasets = ['balance-scale', 'breast-cancer', 'car-evaluation', 'hayes-roth', 'house-votes-84', \n",
    "            'soybean-small', 'spect', 'tic-tac-toe', 'monks-1', 'monks-2', 'monks-3']\n",
    "alpha = [0, 0.01, 0.1]\n",
    "depth = [2, 3, 4, 5]\n",
    "seeds = [31, 42, 53]"
   ]
  },
  {
   "cell_type": "code",
   "execution_count": 5,
   "id": "liberal-samuel",
   "metadata": {},
   "outputs": [],
   "source": [
    "train_ratio = 0.5\n",
    "val_ratio = 0.25\n",
    "test_ratio = 0.25"
   ]
  },
  {
   "cell_type": "code",
   "execution_count": 6,
   "id": "blank-rochester",
   "metadata": {},
   "outputs": [],
   "source": [
    "# create table\n",
    "res_sk = pd.DataFrame(columns=['instance', 'depth', 'seed', 'train_acc', 'val_acc', 'test_acc', 'train_time'])\n",
    "res_oct = pd.DataFrame(columns=['instance', 'depth', 'alpha', 'seed', 'train_acc', 'val_acc', 'test_acc', 'train_time'])\n",
    "res_mfoct = pd.DataFrame(columns=['instance', 'depth', 'alpha', 'seed', 'train_acc', 'val_acc', 'test_acc', 'train_time'])\n",
    "res_boct = pd.DataFrame(columns=['instance', 'depth', 'seed', 'train_acc', 'val_acc', 'test_acc', 'train_time'])"
   ]
  },
  {
   "cell_type": "code",
   "execution_count": 7,
   "id": "fluid-beauty",
   "metadata": {},
   "outputs": [],
   "source": [
    "for s in seeds:\n",
    "    for d in depth:\n",
    "        for data in datasets:\n",
    "            x, y = dataset.loadData(data)\n",
    "            x_train, x_test, y_train, y_test = train_test_split(x, y, test_size=1-train_ratio, random_state=s)\n",
    "            x_val, x_test, y_val, y_test = train_test_split(x_test, y_test, \n",
    "                                                            test_size=test_ratio/(test_ratio+val_ratio), random_state=s)\n",
    "            clf = tree.DecisionTreeClassifier(max_depth=2)\n",
    "            tick = time.time()\n",
    "            clf.fit(x_train, y_train)\n",
    "            tock = time.time()\n",
    "            train_time = tock - tick\n",
    "            train_acc = accuracy_score(y_train, clf.predict(x_train))\n",
    "            val_acc = accuracy_score(y_val, clf.predict(x_val))\n",
    "            test_acc = accuracy_score(y_test, clf.predict(x_test))\n",
    "            row = {'instance':data, 'depth':d, 'seed':s, 'train_acc':train_acc, \n",
    "                   'val_acc':val_acc, 'test_acc':test_acc, 'train_time':train_time}\n",
    "            res_sk = res_sk.append(row, ignore_index=True)\n",
    "            res_sk.to_csv('./res/sk.csv', index=False)"
   ]
  },
  {
   "cell_type": "code",
   "execution_count": null,
   "id": "understood-pierre",
   "metadata": {},
   "outputs": [
    {
     "name": "stdout",
     "output_type": "stream",
     "text": [
      "Training data include 312 instances, 4 features.\n",
      "Academic license - for non-commercial use only - expires 2021-06-13\n",
      "Using license file C:\\Users\\Apocrypse\\gurobi.lic\n",
      "Changed value of parameter timelimit to 600.0\n",
      "   Prev: inf  Min: 0.0  Max: inf  Default: inf\n",
      "Training data include 312 instances, 4 features.\n",
      "Changed value of parameter timelimit to 600.0\n",
      "   Prev: inf  Min: 0.0  Max: inf  Default: inf\n",
      "Training data include 312 instances, 4 features.\n",
      "Changed value of parameter timelimit to 600.0\n",
      "   Prev: inf  Min: 0.0  Max: inf  Default: inf\n"
     ]
    },
    {
     "ename": "KeyboardInterrupt",
     "evalue": "",
     "output_type": "error",
     "traceback": [
      "\u001b[1;31m---------------------------------------------------------------------------\u001b[0m",
      "\u001b[1;31mKeyboardInterrupt\u001b[0m                         Traceback (most recent call last)",
      "\u001b[1;32msrc\\gurobipy\\callback.pxi\u001b[0m in \u001b[0;36mgurobipy.CallbackClass.callback\u001b[1;34m()\u001b[0m\n",
      "\u001b[1;32mD:\\OneDrive\\Study\\UofT\\MIE1603 Integer Programming\\project\\MIP_Decision_Tree\\tree\\mfoct.py\u001b[0m in \u001b[0;36mmin_cut\u001b[1;34m(model, where)\u001b[0m\n\u001b[0;32m    338\u001b[0m                         \u001b[0mn\u001b[0m \u001b[1;33m=\u001b[0m \u001b[1;36m2\u001b[0m \u001b[1;33m*\u001b[0m \u001b[0mn\u001b[0m \u001b[1;33m+\u001b[0m \u001b[1;36m1\u001b[0m\u001b[1;33m\u001b[0m\u001b[1;33m\u001b[0m\u001b[0m\n\u001b[0;32m    339\u001b[0m                         \u001b[0mdir\u001b[0m\u001b[1;33m.\u001b[0m\u001b[0mappend\u001b[0m\u001b[1;33m(\u001b[0m\u001b[1;36m0\u001b[0m\u001b[1;33m)\u001b[0m\u001b[1;33m\u001b[0m\u001b[1;33m\u001b[0m\u001b[0m\n\u001b[1;32m--> 340\u001b[1;33m                     \u001b[1;32melif\u001b[0m \u001b[0mnp\u001b[0m\u001b[1;33m.\u001b[0m\u001b[0msum\u001b[0m\u001b[1;33m(\u001b[0m\u001b[1;33m[\u001b[0m\u001b[0mb_val\u001b[0m\u001b[1;33m[\u001b[0m\u001b[0mn\u001b[0m\u001b[1;33m,\u001b[0m \u001b[0mf\u001b[0m\u001b[1;33m]\u001b[0m \u001b[1;32mfor\u001b[0m \u001b[0mf\u001b[0m \u001b[1;32min\u001b[0m \u001b[0mmodel\u001b[0m\u001b[1;33m.\u001b[0m\u001b[0m_F\u001b[0m \u001b[1;32mif\u001b[0m \u001b[0mmodel\u001b[0m\u001b[1;33m.\u001b[0m\u001b[0m_X\u001b[0m\u001b[1;33m[\u001b[0m\u001b[0mi\u001b[0m\u001b[1;33m,\u001b[0m \u001b[0mf\u001b[0m\u001b[1;33m]\u001b[0m \u001b[1;33m>=\u001b[0m \u001b[1;36m0.999\u001b[0m\u001b[1;33m]\u001b[0m\u001b[1;33m)\u001b[0m \u001b[1;33m>=\u001b[0m \u001b[1;36m0.999\u001b[0m\u001b[1;33m:\u001b[0m\u001b[1;33m\u001b[0m\u001b[1;33m\u001b[0m\u001b[0m\n\u001b[0m\u001b[0;32m    341\u001b[0m                         \u001b[0mn\u001b[0m \u001b[1;33m=\u001b[0m \u001b[1;36m2\u001b[0m \u001b[1;33m*\u001b[0m \u001b[0mn\u001b[0m \u001b[1;33m+\u001b[0m \u001b[1;36m2\u001b[0m\u001b[1;33m\u001b[0m\u001b[1;33m\u001b[0m\u001b[0m\n\u001b[0;32m    342\u001b[0m                         \u001b[0mdir\u001b[0m\u001b[1;33m.\u001b[0m\u001b[0mappend\u001b[0m\u001b[1;33m(\u001b[0m\u001b[1;36m1\u001b[0m\u001b[1;33m)\u001b[0m\u001b[1;33m\u001b[0m\u001b[1;33m\u001b[0m\u001b[0m\n",
      "\u001b[1;32m<__array_function__ internals>\u001b[0m in \u001b[0;36msum\u001b[1;34m(*args, **kwargs)\u001b[0m\n",
      "\u001b[1;32mD:\\Anaconda3\\lib\\site-packages\\numpy\\core\\fromnumeric.py\u001b[0m in \u001b[0;36msum\u001b[1;34m(a, axis, dtype, out, keepdims, initial, where)\u001b[0m\n\u001b[0;32m   2246\u001b[0m \u001b[1;33m\u001b[0m\u001b[0m\n\u001b[0;32m   2247\u001b[0m     return _wrapreduction(a, np.add, 'sum', axis, dtype, out, keepdims=keepdims,\n\u001b[1;32m-> 2248\u001b[1;33m                           initial=initial, where=where)\n\u001b[0m\u001b[0;32m   2249\u001b[0m \u001b[1;33m\u001b[0m\u001b[0m\n\u001b[0;32m   2250\u001b[0m \u001b[1;33m\u001b[0m\u001b[0m\n",
      "\u001b[1;31mKeyboardInterrupt\u001b[0m: "
     ]
    },
    {
     "name": "stdout",
     "output_type": "stream",
     "text": [
      "Training data include 312 instances, 4 features.\n",
      "Changed value of parameter timelimit to 600.0\n",
      "   Prev: inf  Min: 0.0  Max: inf  Default: inf\n"
     ]
    },
    {
     "name": "stderr",
     "output_type": "stream",
     "text": [
      "Exception ignored in: 'gurobipy.callbackstub'\n",
      "Traceback (most recent call last):\n",
      "  File \"src\\gurobipy\\callback.pxi\", line 180, in gurobipy.CallbackClass.callback\n",
      "  File \"D:\\OneDrive\\Study\\UofT\\MIE1603 Integer Programming\\project\\MIP_Decision_Tree\\tree\\mfoct.py\", line 340, in min_cut\n",
      "    elif np.sum([b_val[n, f] for f in model._F if model._X[i, f] >= 0.999]) >= 0.999:\n",
      "  File \"<__array_function__ internals>\", line 6, in sum\n",
      "  File \"D:\\Anaconda3\\lib\\site-packages\\numpy\\core\\fromnumeric.py\", line 2248, in sum\n",
      "    initial=initial, where=where)\n",
      "KeyboardInterrupt\n"
     ]
    }
   ],
   "source": [
    "for s in seeds:\n",
    "    for d in depth:\n",
    "        for data in datasets:\n",
    "            x, y = dataset.loadData(data)\n",
    "            x_train, x_test, y_train, y_test = train_test_split(x, y, test_size=1-train_ratio, random_state=s)\n",
    "            x_val, x_test, y_val, y_test = train_test_split(x_test, y_test, \n",
    "                                                            test_size=test_ratio/(test_ratio+val_ratio), random_state=s)\n",
    "            for a in alpha:\n",
    "                # oct\n",
    "                octree = miptree.optimalDecisionTreeClassifier(max_depth=d, min_samples_split=0, alpha=a,\n",
    "                                                               timelimit=timelimit, output=False)\n",
    "                tick = time.time()\n",
    "                octree.fit(x_train, y_train)\n",
    "                tock = time.time()\n",
    "                train_time = tock - tick\n",
    "                train_acc = accuracy_score(y_train, octree.predict(x_train))\n",
    "                val_acc = accuracy_score(y_val, octree.predict(x_val))\n",
    "                test_acc = accuracy_score(y_test, octree.predict(x_test))\n",
    "                row = {'instance':data, 'depth':d, 'alpha':a, 'seed':s, 'train_acc':train_acc, 'val_acc':val_acc,\n",
    "                       'test_acc':test_acc, 'train_time':train_time}\n",
    "                res_oct = res_oct.append(row, ignore_index=True)\n",
    "                res_oct.to_csv('./res/oct.csv', index=False)\n",
    "                #print(row)\n",
    "                \n",
    "                # mfoct\n",
    "                mfoct = miptree.maxFlowOptimalDecisionTreeClassifier(max_depth=d, alpha=a,\n",
    "                                                                     timelimit=timelimit, output=False)\n",
    "                tick = time.time()\n",
    "                mfoct.fit(x_train, y_train)\n",
    "                tock = time.time()\n",
    "                train_time = tock - tick\n",
    "                train_acc = accuracy_score(y_train, mfoct.predict(x_train))\n",
    "                val_acc = accuracy_score(y_val, mfoct.predict(x_val))\n",
    "                test_acc = accuracy_score(y_test, mfoct.predict(x_test))\n",
    "                row = {'instance':data, 'depth':d, 'alpha':a, 'seed':s, 'train_acc':train_acc, 'val_acc':val_acc,\n",
    "                       'test_acc':test_acc, 'train_time':train_time}\n",
    "                res_mfoct = res_mfoct.append(row, ignore_index=True)\n",
    "                res_mfoct.to_csv('./res/mfoct.csv', index=False)\n",
    "                #print(row)\n",
    "            \n",
    "            # boct\n",
    "            boct = miptree.binOptimalDecisionTreeClassifier(max_depth=d, min_samples_split=0,\n",
    "                                                            timelimit=timelimit, output=False)\n",
    "            tick = time.time()\n",
    "            boct.fit(x_train, y_train)\n",
    "            tock = time.time()\n",
    "            train_time = tock - tick\n",
    "            train_acc = accuracy_score(y_train, boct.predict(x_train))\n",
    "            val_acc = accuracy_score(y_val, boct.predict(x_val))\n",
    "            test_acc = accuracy_score(y_test, boct.predict(x_test))\n",
    "            row = {'instance':data, 'depth':d, 'seed':s, 'train_acc':train_acc, 'val_acc':val_acc,\n",
    "                   'test_acc':test_acc, 'train_time':train_time}\n",
    "            res_boct = res_boct.append(row, ignore_index=True)\n",
    "            res_boct.to_csv('./res/boct.csv', index=False)\n",
    "            #print(row)"
   ]
  },
  {
   "cell_type": "code",
   "execution_count": null,
   "id": "anonymous-adult",
   "metadata": {},
   "outputs": [],
   "source": []
  }
 ],
 "metadata": {
  "kernelspec": {
   "display_name": "Python 3",
   "language": "python",
   "name": "python3"
  },
  "language_info": {
   "codemirror_mode": {
    "name": "ipython",
    "version": 3
   },
   "file_extension": ".py",
   "mimetype": "text/x-python",
   "name": "python",
   "nbconvert_exporter": "python",
   "pygments_lexer": "ipython3",
   "version": "3.7.10"
  }
 },
 "nbformat": 4,
 "nbformat_minor": 5
}
